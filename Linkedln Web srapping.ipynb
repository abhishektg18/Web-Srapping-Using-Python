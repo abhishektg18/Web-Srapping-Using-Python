{
 "cells": [
  {
   "cell_type": "code",
   "execution_count": null,
   "id": "a61d1b78",
   "metadata": {},
   "outputs": [],
   "source": [
    "# Login using username and password\n",
    "\n",
    "# Import necesary Modules\n",
    "\n",
    "from selenium import webdriver\n",
    "from selenium.webdriver.common.keys import Keys\n",
    "import pandas as pd\n",
    "from selenium.webdriver.common.by import By\n",
    "import time\n",
    "\n",
    "website = 'https://www.linkedin.com/home'\n",
    "path = \"D:/New folder/chromedriver_win32/chromedriver.exe\"\n",
    "driver = webdriver.Chrome(path)\n",
    "driver.get(website)\n",
    "email_fiels = driver.find_element(By.ID,'session_key')\n",
    "email_fiels.send_keys('Email')\n",
    "\n",
    "password_field = driver.find_element(By.ID,'session_password')\n",
    "password_field.send_keys('Password')\n",
    "signin_button = driver.find_element(By.XPATH,'//*[@id=\"main-content\"]/section[1]/div/div/form[1]/div[2]/button')\n",
    "signin_button.click()\n",
    "\n",
    "time.sleep(5)\n",
    "\n",
    "search_button = driver.find_element(By.XPATH,'//*[@id=\"global-nav-typeahead\"]/input')\n",
    "search_button.send_keys('Data analyst')\n",
    "search_button.send_keys(Keys.RETURN)\n",
    "time.sleep(5)\n",
    "\n",
    "jobs_button = driver.find_element(By.XPATH,'//*[@id=\"search-reusables__filters-bar\"]/ul/li[1]/button')\n",
    "jobs_button.click() \n"
   ]
  },
  {
   "cell_type": "code",
   "execution_count": null,
   "id": "07cfe7a8",
   "metadata": {},
   "outputs": [],
   "source": [
    "# creating empty list \n",
    "\n",
    "job_title = []\n",
    "job_description = []\n",
    "company_Name = []\n",
    "job_Link = []\n",
    "experience = []"
   ]
  },
  {
   "cell_type": "code",
   "execution_count": null,
   "id": "dd32c962",
   "metadata": {},
   "outputs": [],
   "source": [
    "# after login extrating job_title, job_description, company_Name, job_Link\n",
    "\n",
    "from selenium.webdriver.support.ui import WebDriverWait\n",
    "from selenium.webdriver.support import expected_conditions as EC\n",
    "for k in range(1,41):\n",
    "    page_numbers = driver.find_element(By.XPATH,f'//button[@aria-label=\"Page {k}\"]')\n",
    "    driver.execute_script('arguments[0].click();',page_numbers)\n",
    "    \n",
    "    jobs_block = driver.find_elements(By.XPATH,'//ul[@class=\"scaffold-layout__list-container\"]/li')\n",
    "    for i in jobs_block:\n",
    "        driver.execute_script(\"arguments[0].scrollIntoView();\",i)\n",
    "        time.sleep(1)\n",
    "        \n",
    "    job_links = driver.find_elements(By.XPATH,'//ul[@class=\"scaffold-layout__list-container\"]/li/div/div/div[1]/div[2]/div[1]/a')\n",
    "    \n",
    "    \n",
    "    \n",
    "    for link in job_links:\n",
    "        \n",
    "        WebDriverWait(driver, 20).until(EC.element_to_be_clickable(link)).click()\n",
    "        time.sleep(5)\n",
    "        job_title.append(driver.find_element(By.CLASS_NAME,'jobs-unified-top-card__job-title').text)\n",
    "        \n",
    "        job_description.append(driver.find_element(By.CLASS_NAME,'jobs-description-content').text)\n",
    "        \n",
    "        company_Name.append(driver.find_element(By.CLASS_NAME,'jobs-unified-top-card__company-name').text)\n",
    "        \n",
    "        \n",
    "        ab = driver.find_element(By.XPATH,'/html/body/div[5]/div[3]/div[4]/div/div/main/div/section[2]/div/div[2]/div[1]/div/div[1]/div/div[1]/div[1]/a')\n",
    "        job_Link.append(ab.get_attribute('href'))\n",
    "        \n",
    "        \n",
    "        \n",
    "\n",
    "    "
   ]
  },
  {
   "cell_type": "code",
   "execution_count": null,
   "id": "290b5369",
   "metadata": {},
   "outputs": [],
   "source": [
    "# Cleaning the Job description using stop words an stemming\n",
    "\n",
    "import re\n",
    "from nltk.corpus import stopwords\n",
    "z = []\n",
    "# filter only alphabetic words and exclude like *,@,!,,,,\n",
    "for i in range(len(job_description)):\n",
    "    words_AZ = re.sub(pattern = '[^0-9a-zA-Z+]',repl = ' ',string = job_description[i])\n",
    "    \n",
    "    #made each word by comma seperated because of stopwords\n",
    "    words_split = words_AZ.split() # it is used only when give the input to stem function\n",
    "   \n",
    "    # Removing stop words like 'and', 'or',,,,\n",
    "    stop_words = [i for i in words_split if i not in stopwords.words('english')]\n",
    "    \n",
    "    # Joining the stemmed words\n",
    "    z.append(\" \".join(stop_words)) # .join is necessary only when we use stemming of words because stem gives each word by comma seperated \n",
    "\n"
   ]
  },
  {
   "cell_type": "code",
   "execution_count": null,
   "id": "0cc61217",
   "metadata": {},
   "outputs": [],
   "source": [
    "# By using Regex function we can extract the experience in the job description and store in the job description list\n",
    "\n",
    "pattern = '[0-9]+ year|[0-9]+[+] year|[0-9]+ [to]{2} [0-9]+ year|[0-9]+\\-year|[0-9]+\\-[0-9]+ year|[0-9]+ \\- [0-9]+ year|[0-9]+ \\- year'\n",
    "\n",
    "for i in z:\n",
    "    pattern_match =re.findall(pattern,i)\n",
    "    set_match = set(pattern_match)\n",
    "    a = ', '.join(set_match)\n",
    "\n",
    "\n",
    "    if len(a)==0:\n",
    "        a = 'Freshers or Not specified'\n",
    "    else:a = a\n",
    "    experience.append(a)"
   ]
  },
  {
   "cell_type": "code",
   "execution_count": null,
   "id": "e40c7ebb",
   "metadata": {},
   "outputs": [],
   "source": [
    "# Convert list of columns into dataframe\n",
    "\n",
    "dict = {'company_Name':company_Name,'job_title':job_title,'experience':experience,'job_description':job_description,'job_Link':job_Link}\n",
    "df = pd.DataFrame(dict)\n",
    "df"
   ]
  },
  {
   "cell_type": "code",
   "execution_count": null,
   "id": "95ca5091",
   "metadata": {},
   "outputs": [],
   "source": [
    "# Finally stored into csv file\n",
    "\n",
    "df.to_csv(\"D:/New folder/job_dsc2.csv\")"
   ]
  }
 ],
 "metadata": {
  "kernelspec": {
   "display_name": "Python 3 (ipykernel)",
   "language": "python",
   "name": "python3"
  },
  "language_info": {
   "codemirror_mode": {
    "name": "ipython",
    "version": 3
   },
   "file_extension": ".py",
   "mimetype": "text/x-python",
   "name": "python",
   "nbconvert_exporter": "python",
   "pygments_lexer": "ipython3",
   "version": "3.9.13"
  }
 },
 "nbformat": 4,
 "nbformat_minor": 5
}
